{
 "cells": [
  {
   "cell_type": "markdown",
   "id": "542f391b",
   "metadata": {},
   "source": [
    "# Code"
   ]
  },
  {
   "cell_type": "code",
   "execution_count": 50,
   "id": "3e0b7002",
   "metadata": {},
   "outputs": [],
   "source": [
    "import pandas as pd"
   ]
  },
  {
   "cell_type": "code",
   "execution_count": 64,
   "id": "4398377e",
   "metadata": {},
   "outputs": [],
   "source": [
    "file=pd.read_csv('incubyte.txt',delimiter = '|')"
   ]
  },
  {
   "cell_type": "code",
   "execution_count": 65,
   "id": "ff7a88e5",
   "metadata": {},
   "outputs": [
    {
     "name": "stdout",
     "output_type": "stream",
     "text": [
      "   Unnamed: 0  H Customer_Name  Customer_Id  Open_Date  Last_Consulted_Date  \\\n",
      "0         NaN  D          Alex       123457   20101012             20121013   \n",
      "1         NaN  D          John       123458   20101012             20121013   \n",
      "2         NaN  D        Mathew       123459   20101012             20121013   \n",
      "3         NaN  D          Matt        12345   20101012             20121013   \n",
      "4         NaN  D         Jacob         1256   20101012             20121013   \n",
      "\n",
      "  Vaccination_Id Dr_Name State Country      DOB Is_Active  \n",
      "0            MVD    Paul    SA     USA  6031987         A  \n",
      "1            MVD    Paul    TN     IND  6031987         A  \n",
      "2            MVD    Paul   WAS    PHIL  6031987         A  \n",
      "3            MVD    Paul   BOS     NYC  6031987         A  \n",
      "4            MVD    Paul   VIC      AU  6031987         A  \n"
     ]
    }
   ],
   "source": [
    "file.to_csv('incubyte.csv', \n",
    "                  index = None)\n",
    "print(file)"
   ]
  },
  {
   "cell_type": "code",
   "execution_count": 62,
   "id": "a8820fbc",
   "metadata": {},
   "outputs": [
    {
     "name": "stdout",
     "output_type": "stream",
     "text": [
      "<class 'pandas.core.frame.DataFrame'>\n",
      "RangeIndex: 5 entries, 0 to 4\n",
      "Data columns (total 12 columns):\n",
      " #   Column               Non-Null Count  Dtype  \n",
      "---  ------               --------------  -----  \n",
      " 0   Unnamed: 0           0 non-null      float64\n",
      " 1   H                    5 non-null      object \n",
      " 2   Customer_Name        5 non-null      object \n",
      " 3   Customer_Id          5 non-null      int64  \n",
      " 4   Open_Date            5 non-null      int64  \n",
      " 5   Last_Consulted_Date  5 non-null      int64  \n",
      " 6   Vaccination_Id       5 non-null      object \n",
      " 7   Dr_Name              5 non-null      object \n",
      " 8   State                5 non-null      object \n",
      " 9   Country              5 non-null      object \n",
      " 10  DOB                  5 non-null      int64  \n",
      " 11  Is_Active            5 non-null      object \n",
      "dtypes: float64(1), int64(4), object(7)\n",
      "memory usage: 608.0+ bytes\n"
     ]
    }
   ],
   "source": [
    "file.info()"
   ]
  },
  {
   "cell_type": "code",
   "execution_count": 73,
   "id": "c1a45da5",
   "metadata": {},
   "outputs": [
    {
     "data": {
      "text/html": [
       "<div>\n",
       "<style scoped>\n",
       "    .dataframe tbody tr th:only-of-type {\n",
       "        vertical-align: middle;\n",
       "    }\n",
       "\n",
       "    .dataframe tbody tr th {\n",
       "        vertical-align: top;\n",
       "    }\n",
       "\n",
       "    .dataframe thead th {\n",
       "        text-align: right;\n",
       "    }\n",
       "</style>\n",
       "<table border=\"1\" class=\"dataframe\">\n",
       "  <thead>\n",
       "    <tr style=\"text-align: right;\">\n",
       "      <th></th>\n",
       "      <th>Customer_Name</th>\n",
       "      <th>Customer_Id</th>\n",
       "      <th>Open_Date</th>\n",
       "      <th>Last_Consulted_Date</th>\n",
       "      <th>Vaccination_Id</th>\n",
       "      <th>Dr_Name</th>\n",
       "      <th>State</th>\n",
       "      <th>Country</th>\n",
       "      <th>DOB</th>\n",
       "      <th>Is_Active</th>\n",
       "    </tr>\n",
       "  </thead>\n",
       "  <tbody>\n",
       "    <tr>\n",
       "      <th>0</th>\n",
       "      <td>Alex</td>\n",
       "      <td>123457</td>\n",
       "      <td>20101012</td>\n",
       "      <td>20121013</td>\n",
       "      <td>MVD</td>\n",
       "      <td>Paul</td>\n",
       "      <td>SA</td>\n",
       "      <td>USA</td>\n",
       "      <td>6031987</td>\n",
       "      <td>A</td>\n",
       "    </tr>\n",
       "    <tr>\n",
       "      <th>1</th>\n",
       "      <td>John</td>\n",
       "      <td>123458</td>\n",
       "      <td>20101012</td>\n",
       "      <td>20121013</td>\n",
       "      <td>MVD</td>\n",
       "      <td>Paul</td>\n",
       "      <td>TN</td>\n",
       "      <td>IND</td>\n",
       "      <td>6031987</td>\n",
       "      <td>A</td>\n",
       "    </tr>\n",
       "    <tr>\n",
       "      <th>2</th>\n",
       "      <td>Mathew</td>\n",
       "      <td>123459</td>\n",
       "      <td>20101012</td>\n",
       "      <td>20121013</td>\n",
       "      <td>MVD</td>\n",
       "      <td>Paul</td>\n",
       "      <td>WAS</td>\n",
       "      <td>PHIL</td>\n",
       "      <td>6031987</td>\n",
       "      <td>A</td>\n",
       "    </tr>\n",
       "    <tr>\n",
       "      <th>3</th>\n",
       "      <td>Matt</td>\n",
       "      <td>12345</td>\n",
       "      <td>20101012</td>\n",
       "      <td>20121013</td>\n",
       "      <td>MVD</td>\n",
       "      <td>Paul</td>\n",
       "      <td>BOS</td>\n",
       "      <td>NYC</td>\n",
       "      <td>6031987</td>\n",
       "      <td>A</td>\n",
       "    </tr>\n",
       "    <tr>\n",
       "      <th>4</th>\n",
       "      <td>Jacob</td>\n",
       "      <td>1256</td>\n",
       "      <td>20101012</td>\n",
       "      <td>20121013</td>\n",
       "      <td>MVD</td>\n",
       "      <td>Paul</td>\n",
       "      <td>VIC</td>\n",
       "      <td>AU</td>\n",
       "      <td>6031987</td>\n",
       "      <td>A</td>\n",
       "    </tr>\n",
       "  </tbody>\n",
       "</table>\n",
       "</div>"
      ],
      "text/plain": [
       "  Customer_Name  Customer_Id  Open_Date  Last_Consulted_Date Vaccination_Id  \\\n",
       "0          Alex       123457   20101012             20121013            MVD   \n",
       "1          John       123458   20101012             20121013            MVD   \n",
       "2        Mathew       123459   20101012             20121013            MVD   \n",
       "3          Matt        12345   20101012             20121013            MVD   \n",
       "4         Jacob         1256   20101012             20121013            MVD   \n",
       "\n",
       "  Dr_Name State Country      DOB Is_Active  \n",
       "0    Paul    SA     USA  6031987         A  \n",
       "1    Paul    TN     IND  6031987         A  \n",
       "2    Paul   WAS    PHIL  6031987         A  \n",
       "3    Paul   BOS     NYC  6031987         A  \n",
       "4    Paul   VIC      AU  6031987         A  "
      ]
     },
     "execution_count": 73,
     "metadata": {},
     "output_type": "execute_result"
    }
   ],
   "source": [
    "data=pd.read_csv('incubyte.csv',usecols=[2,3,4,5,6,7,8,9,10,11])\n",
    "data"
   ]
  },
  {
   "cell_type": "code",
   "execution_count": 103,
   "id": "90922838",
   "metadata": {},
   "outputs": [],
   "source": [
    "headList=['Name', 'Cust_ID','open_Dt','Consul_Dt','VAC_ID','Dr_Name','State','County','DOB','FLAG']"
   ]
  },
  {
   "cell_type": "code",
   "execution_count": 104,
   "id": "8099cea7",
   "metadata": {},
   "outputs": [],
   "source": [
    "data.to_csv('incubyte.csv',header=headList,index=False)"
   ]
  },
  {
   "cell_type": "code",
   "execution_count": 105,
   "id": "1912c845",
   "metadata": {},
   "outputs": [],
   "source": [
    "data2=pd.read_csv('incubyte.csv')\n"
   ]
  },
  {
   "cell_type": "code",
   "execution_count": 106,
   "id": "6d3d2410",
   "metadata": {},
   "outputs": [
    {
     "name": "stdout",
     "output_type": "stream",
     "text": [
      "     Name  Cust_ID   open_Dt  Consul_Dt VAC_ID Dr_Name State County      DOB  \\\n",
      "0    Alex   123457  20101012   20121013    MVD    Paul    SA    USA  6031987   \n",
      "1    John   123458  20101012   20121013    MVD    Paul    TN    IND  6031987   \n",
      "2  Mathew   123459  20101012   20121013    MVD    Paul   WAS   PHIL  6031987   \n",
      "3    Matt    12345  20101012   20121013    MVD    Paul   BOS    NYC  6031987   \n",
      "4   Jacob     1256  20101012   20121013    MVD    Paul   VIC     AU  6031987   \n",
      "\n",
      "  FLAG  \n",
      "0    A  \n",
      "1    A  \n",
      "2    A  \n",
      "3    A  \n",
      "4    A  \n"
     ]
    }
   ],
   "source": [
    "\n",
    "print(data2)"
   ]
  },
  {
   "cell_type": "code",
   "execution_count": 107,
   "id": "f20e319a",
   "metadata": {},
   "outputs": [
    {
     "name": "stdout",
     "output_type": "stream",
     "text": [
      "<class 'pandas.core.frame.DataFrame'>\n",
      "RangeIndex: 5 entries, 0 to 4\n",
      "Data columns (total 10 columns):\n",
      " #   Column     Non-Null Count  Dtype \n",
      "---  ------     --------------  ----- \n",
      " 0   Name       5 non-null      object\n",
      " 1   Cust_ID    5 non-null      int64 \n",
      " 2   open_Dt    5 non-null      int64 \n",
      " 3   Consul_Dt  5 non-null      int64 \n",
      " 4   VAC_ID     5 non-null      object\n",
      " 5   Dr_Name    5 non-null      object\n",
      " 6   State      5 non-null      object\n",
      " 7   County     5 non-null      object\n",
      " 8   DOB        5 non-null      int64 \n",
      " 9   FLAG       5 non-null      object\n",
      "dtypes: int64(4), object(6)\n",
      "memory usage: 528.0+ bytes\n"
     ]
    }
   ],
   "source": [
    "data2.info()"
   ]
  }
 ],
 "metadata": {
  "kernelspec": {
   "display_name": "Python 3",
   "language": "python",
   "name": "python3"
  },
  "language_info": {
   "codemirror_mode": {
    "name": "ipython",
    "version": 3
   },
   "file_extension": ".py",
   "mimetype": "text/x-python",
   "name": "python",
   "nbconvert_exporter": "python",
   "pygments_lexer": "ipython3",
   "version": "3.8.8"
  }
 },
 "nbformat": 4,
 "nbformat_minor": 5
}
